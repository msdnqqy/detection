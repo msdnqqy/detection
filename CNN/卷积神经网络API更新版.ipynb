{
 "cells": [
  {
   "cell_type": "code",
   "execution_count": 1,
   "metadata": {},
   "outputs": [
    {
     "name": "stderr",
     "output_type": "stream",
     "text": [
      "C:\\ProgramData\\Anaconda3\\lib\\site-packages\\h5py\\__init__.py:36: FutureWarning: Conversion of the second argument of issubdtype from `float` to `np.floating` is deprecated. In future, it will be treated as `np.float64 == np.dtype(float).type`.\n",
      "  from ._conv import register_converters as _register_converters\n"
     ]
    }
   ],
   "source": [
    "import tensorflow as tf\n",
    "from tensorflow.examples.tutorials.mnist import input_data\n",
    "import numpy as np"
   ]
  },
  {
   "cell_type": "code",
   "execution_count": 2,
   "metadata": {},
   "outputs": [],
   "source": [
    "tf.set_random_seed(1)\n",
    "np.random.seed(1)\n",
    "BATCH_SIZE = 50\n",
    "LR = 0.001              # learning rate"
   ]
  },
  {
   "cell_type": "code",
   "execution_count": 3,
   "metadata": {},
   "outputs": [
    {
     "name": "stdout",
     "output_type": "stream",
     "text": [
      "WARNING:tensorflow:From <ipython-input-3-e14c83e42b15>:1: read_data_sets (from tensorflow.contrib.learn.python.learn.datasets.mnist) is deprecated and will be removed in a future version.\n",
      "Instructions for updating:\n",
      "Please use alternatives such as official/mnist/dataset.py from tensorflow/models.\n",
      "WARNING:tensorflow:From C:\\ProgramData\\Anaconda3\\lib\\site-packages\\tensorflow\\contrib\\learn\\python\\learn\\datasets\\mnist.py:260: maybe_download (from tensorflow.contrib.learn.python.learn.datasets.base) is deprecated and will be removed in a future version.\n",
      "Instructions for updating:\n",
      "Please write your own downloading logic.\n",
      "WARNING:tensorflow:From C:\\ProgramData\\Anaconda3\\lib\\site-packages\\tensorflow\\contrib\\learn\\python\\learn\\datasets\\base.py:252: _internal_retry.<locals>.wrap.<locals>.wrapped_fn (from tensorflow.contrib.learn.python.learn.datasets.base) is deprecated and will be removed in a future version.\n",
      "Instructions for updating:\n",
      "Please use urllib or similar directly.\n",
      "Successfully downloaded train-images-idx3-ubyte.gz 9912422 bytes.\n",
      "WARNING:tensorflow:From C:\\ProgramData\\Anaconda3\\lib\\site-packages\\tensorflow\\contrib\\learn\\python\\learn\\datasets\\mnist.py:262: extract_images (from tensorflow.contrib.learn.python.learn.datasets.mnist) is deprecated and will be removed in a future version.\n",
      "Instructions for updating:\n",
      "Please use tf.data to implement this functionality.\n",
      "Extracting ./mnist\\train-images-idx3-ubyte.gz\n",
      "Successfully downloaded train-labels-idx1-ubyte.gz 28881 bytes.\n",
      "WARNING:tensorflow:From C:\\ProgramData\\Anaconda3\\lib\\site-packages\\tensorflow\\contrib\\learn\\python\\learn\\datasets\\mnist.py:267: extract_labels (from tensorflow.contrib.learn.python.learn.datasets.mnist) is deprecated and will be removed in a future version.\n",
      "Instructions for updating:\n",
      "Please use tf.data to implement this functionality.\n",
      "Extracting ./mnist\\train-labels-idx1-ubyte.gz\n",
      "WARNING:tensorflow:From C:\\ProgramData\\Anaconda3\\lib\\site-packages\\tensorflow\\contrib\\learn\\python\\learn\\datasets\\mnist.py:110: dense_to_one_hot (from tensorflow.contrib.learn.python.learn.datasets.mnist) is deprecated and will be removed in a future version.\n",
      "Instructions for updating:\n",
      "Please use tf.one_hot on tensors.\n",
      "Successfully downloaded t10k-images-idx3-ubyte.gz 1648877 bytes.\n",
      "Extracting ./mnist\\t10k-images-idx3-ubyte.gz\n",
      "Successfully downloaded t10k-labels-idx1-ubyte.gz 4542 bytes.\n",
      "Extracting ./mnist\\t10k-labels-idx1-ubyte.gz\n",
      "WARNING:tensorflow:From C:\\ProgramData\\Anaconda3\\lib\\site-packages\\tensorflow\\contrib\\learn\\python\\learn\\datasets\\mnist.py:290: DataSet.__init__ (from tensorflow.contrib.learn.python.learn.datasets.mnist) is deprecated and will be removed in a future version.\n",
      "Instructions for updating:\n",
      "Please use alternatives such as official/mnist/dataset.py from tensorflow/models.\n"
     ]
    }
   ],
   "source": [
    "mnist = input_data.read_data_sets('./mnist', one_hot=True)  # they has been normalized to range (0,1)\n",
    "test_x = mnist.test.images[:2000]\n",
    "test_y = mnist.test.labels[:2000]"
   ]
  },
  {
   "cell_type": "code",
   "execution_count": 4,
   "metadata": {},
   "outputs": [],
   "source": [
    "tf_x = tf.placeholder(tf.float32, [None, 28*28]) / 255.\n",
    "image = tf.reshape(tf_x, [-1, 28, 28, 1])              # (batch, height, width, channel)\n",
    "tf_y = tf.placeholder(tf.int32, [None, 10])    \n"
   ]
  },
  {
   "cell_type": "code",
   "execution_count": 9,
   "metadata": {},
   "outputs": [],
   "source": [
    "conv1=tf.layers.conv2d(\n",
    "    inputs=image,\n",
    "    filters=16,\n",
    "    kernel_size=5,\n",
    "    strides=1,\n",
    "    padding='same',\n",
    "    activation=tf.nn.relu\n",
    ")\n",
    "pool1=tf.layers.max_pooling2d(\n",
    "    conv1,\n",
    "    pool_size=2,\n",
    "    strides=2\n",
    "    )\n",
    "\n",
    "conv2=tf.layers.conv2d(\n",
    "    pool1,\n",
    "    32,\n",
    "    5,\n",
    "    1,\n",
    "    'same',\n",
    "    activation=tf.nn.relu\n",
    ")\n",
    "\n",
    "pool2=tf.layers.max_pooling2d(\n",
    "    conv2,\n",
    "    2,\n",
    "    2\n",
    "\n",
    ")\n",
    "\n",
    "flat=tf.reshape(pool2,[-1,7*7*32])\n",
    "output=tf.layers.dense(flat,10)\n",
    "\n",
    "\n",
    "loss=tf.losses.softmax_cross_entropy(onehot_labels=tf_y,logits=output)\n",
    "train_op=tf.train.AdamOptimizer(LR).minimize(loss)\n",
    "\n",
    "acc=tf.metrics.accuracy(labels=tf.argmax(tf_y,axis=1),predictions=tf.argmax(output,axis=1))[1]\n",
    "\n",
    "\n",
    "sess = tf.Session()\n",
    "init_op = tf.group(tf.global_variables_initializer(), tf.local_variables_initializer()) # the local var is for accuracy_op\n",
    "sess.run(init_op)     "
   ]
  },
  {
   "cell_type": "code",
   "execution_count": 12,
   "metadata": {},
   "outputs": [
    {
     "name": "stdout",
     "output_type": "stream",
     "text": [
      "Step: 0 | train loss: 2.3127 | test accuracy: 0.19\n",
      "Step: 50 | train loss: 0.3149 | test accuracy: 0.50\n",
      "Step: 100 | train loss: 0.2741 | test accuracy: 0.63\n",
      "Step: 150 | train loss: 0.2666 | test accuracy: 0.70\n",
      "Step: 200 | train loss: 0.3286 | test accuracy: 0.75\n",
      "Step: 250 | train loss: 0.4283 | test accuracy: 0.78\n",
      "Step: 300 | train loss: 0.1068 | test accuracy: 0.81\n",
      "Step: 350 | train loss: 0.0733 | test accuracy: 0.83\n",
      "Step: 400 | train loss: 0.3883 | test accuracy: 0.84\n",
      "Step: 450 | train loss: 0.0555 | test accuracy: 0.85\n",
      "Step: 500 | train loss: 0.1668 | test accuracy: 0.86\n",
      "Step: 550 | train loss: 0.0323 | test accuracy: 0.87\n",
      "Step: 600 | train loss: 0.2360 | test accuracy: 0.88\n",
      "Step: 650 | train loss: 0.2591 | test accuracy: 0.88\n",
      "Step: 700 | train loss: 0.0521 | test accuracy: 0.89\n",
      "Step: 750 | train loss: 0.1074 | test accuracy: 0.89\n",
      "Step: 800 | train loss: 0.0827 | test accuracy: 0.90\n",
      "Step: 850 | train loss: 0.1123 | test accuracy: 0.90\n",
      "Step: 900 | train loss: 0.0199 | test accuracy: 0.91\n",
      "Step: 950 | train loss: 0.0173 | test accuracy: 0.91\n",
      "Step: 1000 | train loss: 0.0689 | test accuracy: 0.91\n",
      "Step: 1050 | train loss: 0.0442 | test accuracy: 0.92\n",
      "Step: 1100 | train loss: 0.0164 | test accuracy: 0.92\n",
      "Step: 1150 | train loss: 0.1358 | test accuracy: 0.92\n",
      "Step: 1200 | train loss: 0.0268 | test accuracy: 0.92\n",
      "Step: 1250 | train loss: 0.0916 | test accuracy: 0.93\n",
      "Step: 1300 | train loss: 0.0259 | test accuracy: 0.93\n",
      "Step: 1350 | train loss: 0.0379 | test accuracy: 0.93\n",
      "Step: 1400 | train loss: 0.1383 | test accuracy: 0.93\n",
      "Step: 1450 | train loss: 0.0350 | test accuracy: 0.93\n",
      "Step: 1500 | train loss: 0.0368 | test accuracy: 0.93\n",
      "Step: 1550 | train loss: 0.0419 | test accuracy: 0.94\n",
      "Step: 1600 | train loss: 0.0179 | test accuracy: 0.94\n",
      "Step: 1650 | train loss: 0.0152 | test accuracy: 0.94\n",
      "Step: 1700 | train loss: 0.0160 | test accuracy: 0.94\n",
      "Step: 1750 | train loss: 0.0416 | test accuracy: 0.94\n",
      "Step: 1800 | train loss: 0.0118 | test accuracy: 0.94\n",
      "Step: 1850 | train loss: 0.0241 | test accuracy: 0.94\n",
      "Step: 1900 | train loss: 0.1602 | test accuracy: 0.94\n",
      "Step: 1950 | train loss: 0.1144 | test accuracy: 0.94\n"
     ]
    }
   ],
   "source": [
    "for step in range(2000):\n",
    "    b_x, b_y = mnist.train.next_batch(BATCH_SIZE)\n",
    "    _, loss_ = sess.run([train_op, loss], {tf_x: b_x, tf_y: b_y})\n",
    "    if step % 50 == 0:\n",
    "        accuracy_, flat_representation = sess.run([acc, flat], {tf_x: test_x, tf_y: test_y})\n",
    "        print('Step:', step, '| train loss: %.4f' % loss_, '| test accuracy: %.2f' % accuracy_)"
   ]
  },
  {
   "cell_type": "code",
   "execution_count": null,
   "metadata": {},
   "outputs": [],
   "source": []
  }
 ],
 "metadata": {
  "kernelspec": {
   "display_name": "Python 3",
   "language": "python",
   "name": "python3"
  },
  "language_info": {
   "codemirror_mode": {
    "name": "ipython",
    "version": 3
   },
   "file_extension": ".py",
   "mimetype": "text/x-python",
   "name": "python",
   "nbconvert_exporter": "python",
   "pygments_lexer": "ipython3",
   "version": "3.6.5"
  }
 },
 "nbformat": 4,
 "nbformat_minor": 2
}
