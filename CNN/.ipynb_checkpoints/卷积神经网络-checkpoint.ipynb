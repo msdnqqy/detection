{
 "cells": [
  {
   "cell_type": "code",
   "execution_count": 2,
   "metadata": {},
   "outputs": [],
   "source": [
    "import tensorflow as tf\n",
    "from tensorflow.examples.tutorials.mnist import input_data\n",
    "import numpy as np"
   ]
  },
  {
   "cell_type": "code",
   "execution_count": 4,
   "metadata": {},
   "outputs": [
    {
     "name": "stdout",
     "output_type": "stream",
     "text": [
      "Extracting MNIST_data\\train-images-idx3-ubyte.gz\n",
      "Extracting MNIST_data\\train-labels-idx1-ubyte.gz\n",
      "Extracting MNIST_data\\t10k-images-idx3-ubyte.gz\n",
      "Extracting MNIST_data\\t10k-labels-idx1-ubyte.gz\n"
     ]
    }
   ],
   "source": [
    "mnist=input_data.read_data_sets('MNIST_data',one_hot=True)"
   ]
  },
  {
   "cell_type": "code",
   "execution_count": 36,
   "metadata": {},
   "outputs": [],
   "source": [
    "def acc(x_test,y_test):\n",
    "    global prediction\n",
    "    prediction_=sess.run(prediction,feed_dict={xs:x_test,ys:y_test,keep_prob:1})\n",
    "    #比较prediction_中最大值的位置和y_test中最大值的位置是不是一样\n",
    "    acc_=tf.equal(tf.argmax(prediction_,1),tf.argmax(y_test,1))\n",
    "    cast=tf.cast(acc_,tf.float32)\n",
    "    score=tf.reduce_mean(cast)\n",
    "    score_=sess.run(score,feed_dict={xs:x_test,ys:y_test,keep_prob:0.5})\n",
    "    return score_"
   ]
  },
  {
   "cell_type": "code",
   "execution_count": 37,
   "metadata": {},
   "outputs": [],
   "source": [
    "def weight_variable(shape):\n",
    "    init=tf.truncated_normal(shape,stddev=0.1)\n",
    "    return tf.Variable(init)\n",
    "\n",
    "def bias_variable(shape):\n",
    "    init=tf.constant(0.1,shape=shape)\n",
    "    return tf.Variable(init)\n",
    "\n",
    "def conv2d(x,W):\n",
    "    return tf.nn.conv2d(x,W,strides=[1,1,1,1],padding='SAME')\n",
    "\n",
    "def max_pool_2x2(x):\n",
    "    return tf.nn.max_pool(x,ksize=[1,2,2,1],strides=[1,2,2,1],padding='SAME')\n",
    "\n"
   ]
  },
  {
   "cell_type": "code",
   "execution_count": null,
   "metadata": {},
   "outputs": [],
   "source": [
    "xs=tf.placeholder(tf.float32,[None,784])\n",
    "ys=tf.placeholder(tf.float32,[None,10])\n",
    "image=tf.reshape(xs,[-1,28,28,1])/255#shape=[none,28,28,1]\n",
    "keep_prob=tf.placeholder(tf.float32)\n",
    "\n",
    "\n",
    "W_conv1=weight_variable([5,5,1,32])#图像厚度为1，patch=5*5\n",
    "b_conv1=bias_variable([32])\n",
    "conv1=tf.nn.relu(conv2d(image,W_conv1)+b_conv1)#out=[none,28,28,32]\n",
    "pool1=max_pool_2x2(conv1)#out=[none,14,14,32]\n",
    "\n",
    "W_conv2=weight_variable([5,5,32,64])\n",
    "b_conv2=bias_variable([64])\n",
    "conv2=tf.nn.relu(conv2d(pool1,W_conv2)+b_conv2)#[None,14,14,64]\n",
    "pool2=max_pool_2x2(conv2)#[None,7,7,64]\n",
    "\n",
    "#加入全连接层\n",
    "W_full1=weight_variable([7*7*64,1024])\n",
    "b_full1=bias_variable([1024])\n",
    "\n",
    "flat=tf.reshape(pool2,[-1,7*7*64])\n",
    "\n",
    "# full1=tf.nn.relu(tf.matmul(flat,W_full1)+b_full1)\n",
    "# full1_drop=tf.nn.dropout(full1,keep_prob)\n",
    "\n",
    "W_full2=weight_variable([7*7*64,10])\n",
    "b_full2=bias_variable([10])\n",
    "\n",
    "prediction=tf.nn.softmax(tf.matmul(full1_drop,W_full2)+b_full2)\n",
    "\n",
    "loss1=tf.reduce_mean(-tf.reduce_sum(ys*tf.log(prediction),reduction_indices=[1]))\n",
    "train_step=tf.train.AdamOptimizer(1e-4).minimize(loss1)\n",
    "\n",
    "sess=tf.Session()\n",
    "sess.run(tf.global_variables_initializer())\n"
   ]
  },
  {
   "cell_type": "code",
   "execution_count": null,
   "metadata": {},
   "outputs": [],
   "source": [
    "for i in range(1000):\n",
    "    batch_xs,batch_ys=mnist.train.next_batch(100)\n",
    "    sess.run(train_step,feed_dict={xs:batch_xs,ys:batch_ys,keep_prob:0.5})\n",
    "    if i%50==0:\n",
    "        loss_=sess.run(loss1,feed_dict={xs:mnist.test.images,ys:mnist.test.labels,keep_prob:0.5})\n",
    "        acc_=acc(mnist.test.images,mnist.test.labels)\n",
    "        print(loss_,acc_)"
   ]
  },
  {
   "cell_type": "code",
   "execution_count": null,
   "metadata": {},
   "outputs": [],
   "source": []
  }
 ],
 "metadata": {
  "kernelspec": {
   "display_name": "Python 3",
   "language": "python",
   "name": "python3"
  },
  "language_info": {
   "codemirror_mode": {
    "name": "ipython",
    "version": 3
   },
   "file_extension": ".py",
   "mimetype": "text/x-python",
   "name": "python",
   "nbconvert_exporter": "python",
   "pygments_lexer": "ipython3",
   "version": "3.6.5"
  }
 },
 "nbformat": 4,
 "nbformat_minor": 2
}
