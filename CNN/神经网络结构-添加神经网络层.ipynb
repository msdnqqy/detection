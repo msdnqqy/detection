{
 "cells": [
  {
   "cell_type": "code",
   "execution_count": 1,
   "metadata": {},
   "outputs": [
    {
     "name": "stderr",
     "output_type": "stream",
     "text": [
      "C:\\ProgramData\\Anaconda3\\lib\\site-packages\\h5py\\__init__.py:36: FutureWarning: Conversion of the second argument of issubdtype from `float` to `np.floating` is deprecated. In future, it will be treated as `np.float64 == np.dtype(float).type`.\n",
      "  from ._conv import register_converters as _register_converters\n"
     ]
    }
   ],
   "source": [
    "import numpy as np\n",
    "import tensorflow as tf"
   ]
  },
  {
   "cell_type": "code",
   "execution_count": 2,
   "metadata": {},
   "outputs": [],
   "source": [
    "def add_layer(inputs,in_size,out_size,activation_function=None):\n",
    "    #展示层中wx+b的过程\n",
    "    Weights=tf.Variable(tf.random_normal([in_size,out_size]))\n",
    "    biases=tf.Variable(tf.zeros([1,out_size])+0.1)\n",
    "    Wx_plus_b=tf.matmul(inputs,Weights)+biases\n",
    "    if activation_function is None:\n",
    "        outputs=Wx_plus_b\n",
    "    else:\n",
    "        outputs=activation_function(Wx_plus_b)\n",
    "        \n",
    "    return outputs"
   ]
  },
  {
   "cell_type": "code",
   "execution_count": 16,
   "metadata": {},
   "outputs": [
    {
     "name": "stdout",
     "output_type": "stream",
     "text": [
      "(569, 30) (569,) [0 0 0 0 0 0 0 0 0 0 0 0 0 0 0 0 0 0 0 1 1 1 0 0 0 0 0 0 0 0 0 0 0 0 0 0 0\n",
      " 1 0 0 0 0 0 0 0 0 1 0 1 1]\n",
      "(398, 30) (398, 2)\n",
      "[[1.287e+01 1.621e+01 8.238e+01 5.122e+02 9.425e-02 6.219e-02 3.900e-02\n",
      "  1.615e-02 2.010e-01 5.769e-02 2.345e-01 1.219e+00 1.546e+00 1.824e+01\n",
      "  5.518e-03 2.178e-02 2.589e-02 6.330e-03 2.593e-02 2.157e-03 1.390e+01\n",
      "  2.364e+01 8.927e+01 5.975e+02 1.256e-01 1.808e-01 1.992e-01 5.780e-02\n",
      "  3.604e-01 7.062e-02]\n",
      " [9.777e+00 1.699e+01 6.250e+01 2.902e+02 1.037e-01 8.404e-02 4.334e-02\n",
      "  1.778e-02 1.584e-01 7.065e-02 4.030e-01 1.424e+00 2.747e+00 2.287e+01\n",
      "  1.385e-02 2.932e-02 2.722e-02 1.023e-02 3.281e-02 4.638e-03 1.105e+01\n",
      "  2.147e+01 7.168e+01 3.670e+02 1.467e-01 1.765e-01 1.300e-01 5.334e-02\n",
      "  2.533e-01 8.468e-02]] [[0. 1.]\n",
      " [0. 1.]\n",
      " [1. 0.]\n",
      " [1. 0.]\n",
      " [1. 0.]]\n"
     ]
    }
   ],
   "source": [
    "from sklearn.datasets import load_breast_cancer\n",
    "from sklearn.model_selection import train_test_split\n",
    "breast_cancer_data=load_breast_cancer()\n",
    "print(breast_cancer_data.data.shape,breast_cancer_data.target.shape,breast_cancer_data.target[0:50])\n",
    "\n",
    "target=np.array([[0,1] if x==1 else [1,0] for x in breast_cancer_data.target]).astype(np.float32)\n",
    "#切分数据集，由target我们可以看出这个是一个二分类问题\n",
    "x_data,x_test,y_data,y_test=train_test_split(breast_cancer_data.data,target,test_size=0.3)\n",
    "print(x_data.shape,y_data.shape)\n",
    "print(x_data[0:2],y_data[0:5])"
   ]
  },
  {
   "cell_type": "code",
   "execution_count": 40,
   "metadata": {},
   "outputs": [
    {
     "name": "stdout",
     "output_type": "stream",
     "text": [
      "273.6781 62.562814070351756\n",
      "273.6781 62.562814070351756\n",
      "273.6781 62.562814070351756\n",
      "273.6781 62.562814070351756\n",
      "273.6781 62.562814070351756\n",
      "273.6781 62.562814070351756\n",
      "273.6781 62.562814070351756\n",
      "273.6781 62.562814070351756\n",
      "273.6781 62.562814070351756\n",
      "273.6781 62.562814070351756\n",
      "273.6781 62.562814070351756\n",
      "273.6781 62.562814070351756\n",
      "273.6781 62.562814070351756\n",
      "273.6781 62.562814070351756\n",
      "273.6781 62.562814070351756\n",
      "273.6781 62.562814070351756\n",
      "273.6781 62.562814070351756\n",
      "273.6781 62.562814070351756\n",
      "273.6781 62.562814070351756\n",
      "273.6781 62.562814070351756\n",
      "273.6781 62.562814070351756\n",
      "273.6781 62.562814070351756\n",
      "273.6781 62.562814070351756\n",
      "273.6781 62.562814070351756\n",
      "273.6781 62.562814070351756\n",
      "273.6781 62.562814070351756\n",
      "273.6781 62.562814070351756\n",
      "273.6781 62.562814070351756\n",
      "273.6781 62.562814070351756\n",
      "273.6781 62.562814070351756\n",
      "273.6781 62.562814070351756\n",
      "273.6781 62.562814070351756\n",
      "273.6781 62.562814070351756\n",
      "273.6781 62.562814070351756\n",
      "273.6781 62.562814070351756\n",
      "273.6781 62.562814070351756\n",
      "273.6781 62.562814070351756\n",
      "273.6781 62.562814070351756\n",
      "273.6781 62.562814070351756\n",
      "273.6781 62.562814070351756\n",
      "273.6781 62.562814070351756\n",
      "273.6781 62.562814070351756\n",
      "273.6781 62.562814070351756\n",
      "273.6781 62.562814070351756\n",
      "273.6781 62.562814070351756\n",
      "273.6781 62.562814070351756\n",
      "273.6781 62.562814070351756\n",
      "273.6781 62.562814070351756\n",
      "273.6781 62.562814070351756\n",
      "273.6781 62.562814070351756\n"
     ]
    }
   ],
   "source": [
    "xs=tf.placeholder(tf.float32,[None,30])\n",
    "ys=tf.placeholder(tf.float32,[None,2])\n",
    "\n",
    "#开始搭建神经网络\n",
    "l1=add_layer(xs,30,150,activation_function=tf.nn.relu)\n",
    "prediction=add_layer(l1,150,2,activation_function=tf.nn.softmax)\n",
    "\n",
    "# loss=tf.reduce_mean(tf.reduce_sum(tf.square(ys-prediction),reduction_indices=[1]))\n",
    "loss=tf.reduce_sum(tf.nn.softmax_cross_entropy_with_logits(logits=prediction, labels=ys))\n",
    "train_step=tf.train.GradientDescentOptimizer(0.05).minimize(loss)\n",
    "\n",
    "sess=tf.Session()\n",
    "sess.run(tf.global_variables_initializer())\n",
    "\n",
    "for i in range(1000):\n",
    "    sess.run(train_step,feed_dict={xs:x_data,ys:y_data})\n",
    "    \n",
    "    if i%20==0:\n",
    "        loss_,prediction_,ys_=sess.run([loss,prediction,ys],feed_dict={xs:x_data,ys:y_data})\n",
    "        acc_=np.array(prediction_==ys_).astype(np.int32).sum()/(ys_.shape[0]*2)*100\n",
    "        print(loss_,acc_)"
   ]
  },
  {
   "cell_type": "code",
   "execution_count": null,
   "metadata": {},
   "outputs": [],
   "source": []
  }
 ],
 "metadata": {
  "kernelspec": {
   "display_name": "Python 3",
   "language": "python",
   "name": "python3"
  },
  "language_info": {
   "codemirror_mode": {
    "name": "ipython",
    "version": 3
   },
   "file_extension": ".py",
   "mimetype": "text/x-python",
   "name": "python",
   "nbconvert_exporter": "python",
   "pygments_lexer": "ipython3",
   "version": "3.6.5"
  }
 },
 "nbformat": 4,
 "nbformat_minor": 2
}
